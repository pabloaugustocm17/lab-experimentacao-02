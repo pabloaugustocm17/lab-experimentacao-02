{
 "cells": [
  {
   "cell_type": "markdown",
   "metadata": {},
   "source": [
    "# Libs"
   ]
  },
  {
   "cell_type": "code",
   "execution_count": 20,
   "metadata": {},
   "outputs": [],
   "source": [
    "import requests as req\n",
    "import pandas as pd\n",
    "import json\n",
    "from datetime import datetime\n",
    "import os\n",
    "from keys import TOKEN_GITHUB"
   ]
  },
  {
   "cell_type": "code",
   "execution_count": 21,
   "metadata": {},
   "outputs": [
    {
     "data": {
      "text/plain": [
       "'TESTE'"
      ]
     },
     "execution_count": 21,
     "metadata": {},
     "output_type": "execute_result"
    }
   ],
   "source": [
    "TOKEN_GITHUB"
   ]
  },
  {
   "cell_type": "markdown",
   "metadata": {},
   "source": [
    "# Utils "
   ]
  },
  {
   "cell_type": "markdown",
   "metadata": {},
   "source": [
    "## Consts"
   ]
  },
  {
   "cell_type": "code",
   "execution_count": 22,
   "metadata": {},
   "outputs": [],
   "source": [
    "DOMAIN = 'https://api.github.com/graphql'\n",
    "TOKEN = ''\n",
    "HEADERS = {\n",
    "  'Authorization': f'bearer {TOKEN}',\n",
    "  'Content-Type': 'application/json'\n",
    "}\n",
    "TODAY = datetime.now()\n",
    "NUMBER_OF_REPOSITORIES=1000\n",
    "PRIMARY_LANGUANGE = 'java'\n",
    "\n",
    "ROOT_PATH = os.getcwd().split('\\\\lab-experimentacao-02')[0].replace('\\\\', '/')\n",
    "BASE_URL_GITHUB = 'https://github.com/'\n",
    "CK_REPO = 'https://github.com/mauricioaniche/ck'"
   ]
  },
  {
   "cell_type": "markdown",
   "metadata": {},
   "source": [
    "## Functions"
   ]
  },
  {
   "cell_type": "code",
   "execution_count": 12,
   "metadata": {},
   "outputs": [],
   "source": [
    "def doPost(data : json)-> json:\n",
    "  response = req.post(DOMAIN, headers=HEADERS, json=data)\n",
    "  if response.status_code == 200:\n",
    "    return response.json()\n",
    "\n",
    "  raise Exception(f'Erro ao fazer requisição: {response.status_code} \\n {response.text}')\n",
    "\n",
    "def analisar_createdAt(repositories: list):\n",
    "  data_frame = pd.DataFrame(repositories)\n",
    "  created_dates = [datetime.strptime(date, '%Y-%m-%dT%H:%M:%SZ') for date in data_frame['createdAt']]\n",
    "  age_years = [round((TODAY - date).days / 365, 2) for date in created_dates]\n",
    "  return age_years\n",
    "\n",
    "def clone_repo(dir_path: str, repo_name: str)-> bool:\n",
    "  repo_url = f'{BASE_URL_GITHUB}/{repo_name}'\n",
    "  os.chdir(dir_path)\n",
    "  return os.system(f'git clone {repo_url}') == 0\n",
    "\n",
    "    \n",
    "def execute_ck(repo_name: str, use_jars: str = 'true',max_files_per_partition: int = 0,  variables_and_fields_metrics: str = 'false')-> bool:\n",
    "  ck_path = f'{ROOT_PATH}/ck/target/ck-0.7.1-SNAPSHOT-jar-with-dependencies.jar'\n",
    "  project_path = f'{ROOT_PATH}/{repo_name}'\n",
    "  destiny_path = f'{ROOT_PATH}/output/{repo_name}/'\n",
    "  \n",
    "  if not os.path.exists(destiny_path):\n",
    "    os.makedirs(destiny_path)\n",
    "    \n",
    "  command_to_run_ck = f'java -jar {ck_path} {project_path} {use_jars} {max_files_per_partition} {variables_and_fields_metrics} {destiny_path}'\n",
    "  return os.system(command_to_run_ck) == 0\n",
    "  \n",
    "    \n",
    "def delete_repo(repo_name: str = None, *repo_url: str)->bool:\n",
    "  if not repo_name:\n",
    "        if repo_url:\n",
    "            repo_name = repo_url[0].split('/')[-1].replace('.git', '')\n",
    "        else:\n",
    "            raise ValueError(\"repo_name must be provided or calculated from repo_url\")\n",
    "  \n",
    "  return os.system(f'rmdir /S /Q {repo_name}') == 0\n",
    "\n",
    "def join_csv(path_files: list):\n",
    "    if not path_files:\n",
    "        raise Exception(\"Lista de arquivos vazia.\")\n",
    "    \n",
    "    dataframes = []\n",
    "    \n",
    "    for path in path_files:\n",
    "        try:\n",
    "            df = pd.read_csv(path)\n",
    "            dataframes.append(df)\n",
    "        except FileNotFoundError:\n",
    "            print(f\"Arquivo {path} não encontrado.\")\n",
    "            continue\n",
    "    \n",
    "    concatenated_df = pd.concat(dataframes, ignore_index=True)\n",
    "    \n",
    "    try:\n",
    "        concatenated_df.to_csv('output.csv', index=False)\n",
    "        print(\"Arquivo CSV gerado com sucesso: output.csv\")\n",
    "    except Exception as e:\n",
    "        print(f\"Erro ao escrever arquivo CSV: {e}\")\n"
   ]
  },
  {
   "cell_type": "markdown",
   "metadata": {},
   "source": [
    "## Query"
   ]
  },
  {
   "cell_type": "code",
   "execution_count": 46,
   "metadata": {},
   "outputs": [],
   "source": [
    "QUERY_TEMPLATE = '''\n",
    "query search($queryString: String!, $perPage: Int!, $cursor: String) {\n",
    "  search(query: $queryString, type: REPOSITORY, first: $perPage, after: $cursor) {\n",
    "    edges {\n",
    "      node {\n",
    "        ... on Repository {\n",
    "          name\n",
    "          nameWithOwner\n",
    "          owner {\n",
    "            login\n",
    "          }\n",
    "          stargazers {\n",
    "            totalCount\n",
    "          }\n",
    "          createdAt\n",
    "          defaultBranchRef {\n",
    "            name\n",
    "            target {\n",
    "              ... on Commit {\n",
    "                history(first: 5) {\n",
    "                  edges {\n",
    "                    node {\n",
    "                      message\n",
    "                      committedDate\n",
    "                      author {\n",
    "                        name\n",
    "                        email\n",
    "                        date\n",
    "                      }\n",
    "                    }\n",
    "                  }\n",
    "                }\n",
    "              }\n",
    "            }\n",
    "          }\n",
    "        }\n",
    "      }\n",
    "    }\n",
    "    pageInfo {\n",
    "      endCursor\n",
    "      hasNextPage\n",
    "    }\n",
    "  }\n",
    "}\n",
    "'''"
   ]
  },
  {
   "cell_type": "markdown",
   "metadata": {},
   "source": [
    "## Requests"
   ]
  },
  {
   "cell_type": "code",
   "execution_count": 47,
   "metadata": {},
   "outputs": [
    {
     "name": "stdout",
     "output_type": "stream",
     "text": [
      "Total repositories:  1000\n",
      "Cursor:  Y3Vyc29yOjkwMA==\n",
      "Per page:  100\n"
     ]
    }
   ],
   "source": [
    "per_page = 100\n",
    "cursor = None\n",
    "query_string = \"language:java\"\n",
    "repositories = []\n",
    "\n",
    "while len(repositories) < NUMBER_OF_REPOSITORIES:\n",
    "    variables = {\n",
    "        \"queryString\": query_string,\n",
    "        \"perPage\": per_page,\n",
    "        \"cursor\": cursor\n",
    "    }\n",
    "    \n",
    "    data = doPost(data={'query': QUERY_TEMPLATE, 'variables': variables})\n",
    "\n",
    "    if 'errors' in data:\n",
    "        print(\"GraphQL query failed:\", data['errors'])\n",
    "        break\n",
    "    \n",
    "    # print(data)\n",
    "    for edge in data['data']['search']['edges']:\n",
    "        repositories.append(edge['node'])\n",
    "\n",
    "    if data['data']['search']['pageInfo']['hasNextPage']:\n",
    "        cursor = data['data']['search']['pageInfo']['endCursor']\n",
    "    else:\n",
    "        break\n",
    "\n",
    "print(\"Total repositories: \", len(repositories))\n",
    "print(\"Cursor: \", cursor)\n",
    "print(\"Per page: \", per_page)\n",
    "\n",
    "# data_brutus = pd.DataFrame(repositories)\n",
    "# data_brutus.to_csv('dados_base.csv', index=False, sep=';')"
   ]
  },
  {
   "cell_type": "markdown",
   "metadata": {},
   "source": [
    "## data processing"
   ]
  },
  {
   "cell_type": "code",
   "execution_count": null,
   "metadata": {},
   "outputs": [],
   "source": [
    "repositories[1]"
   ]
  },
  {
   "cell_type": "code",
   "execution_count": 48,
   "metadata": {},
   "outputs": [
    {
     "data": {
      "text/html": [
       "<div>\n",
       "<style scoped>\n",
       "    .dataframe tbody tr th:only-of-type {\n",
       "        vertical-align: middle;\n",
       "    }\n",
       "\n",
       "    .dataframe tbody tr th {\n",
       "        vertical-align: top;\n",
       "    }\n",
       "\n",
       "    .dataframe thead th {\n",
       "        text-align: right;\n",
       "    }\n",
       "</style>\n",
       "<table border=\"1\" class=\"dataframe\">\n",
       "  <thead>\n",
       "    <tr style=\"text-align: right;\">\n",
       "      <th></th>\n",
       "      <th>Repositorio</th>\n",
       "      <th>Estrelas</th>\n",
       "      <th>Anos</th>\n",
       "    </tr>\n",
       "  </thead>\n",
       "  <tbody>\n",
       "    <tr>\n",
       "      <th>0</th>\n",
       "      <td>Snailclimb/JavaGuide</td>\n",
       "      <td>141809</td>\n",
       "      <td>5.87</td>\n",
       "    </tr>\n",
       "    <tr>\n",
       "      <th>1</th>\n",
       "      <td>iluwatar/java-design-patterns</td>\n",
       "      <td>86082</td>\n",
       "      <td>9.61</td>\n",
       "    </tr>\n",
       "    <tr>\n",
       "      <th>2</th>\n",
       "      <td>MisterBooo/LeetCodeAnimation</td>\n",
       "      <td>74839</td>\n",
       "      <td>5.28</td>\n",
       "    </tr>\n",
       "    <tr>\n",
       "      <th>3</th>\n",
       "      <td>macrozheng/mall</td>\n",
       "      <td>74721</td>\n",
       "      <td>5.96</td>\n",
       "    </tr>\n",
       "    <tr>\n",
       "      <th>4</th>\n",
       "      <td>doocs/advanced-java</td>\n",
       "      <td>73809</td>\n",
       "      <td>5.45</td>\n",
       "    </tr>\n",
       "  </tbody>\n",
       "</table>\n",
       "</div>"
      ],
      "text/plain": [
       "                     Repositorio  Estrelas  Anos\n",
       "0           Snailclimb/JavaGuide    141809  5.87\n",
       "1  iluwatar/java-design-patterns     86082  9.61\n",
       "2   MisterBooo/LeetCodeAnimation     74839  5.28\n",
       "3                macrozheng/mall     74721  5.96\n",
       "4            doocs/advanced-java     73809  5.45"
      ]
     },
     "execution_count": 48,
     "metadata": {},
     "output_type": "execute_result"
    }
   ],
   "source": [
    "dataFrame_tratado = pd.DataFrame()\n",
    "dataFrame_tratado['Repositorio'] = [repo.get('nameWithOwner') for repo in repositories]\n",
    "dataFrame_tratado['Estrelas'] = [repo.get('stargazers', {}).get('totalCount', 0) if isinstance(repo, dict) else 0 for repo in repositories]\n",
    "dataFrame_tratado['Anos'] = analisar_createdAt(repositories)\n",
    "\n",
    "dataFrame_tratado.head()"
   ]
  },
  {
   "cell_type": "markdown",
   "metadata": {},
   "source": [
    "## Script to Clone"
   ]
  },
  {
   "cell_type": "code",
   "execution_count": null,
   "metadata": {},
   "outputs": [],
   "source": [
    "destiny_path = ROOT_PATH\n",
    "repo_teste = 'pabloaugustocm17/grafo'\n",
    "clone_repo(dir_path=destiny_path, repo_name=repo_teste)\n",
    "execute_ck('grafo')\n",
    "# join_csv()s\n",
    "delete_repo(repo_name='grafo')"
   ]
  }
 ],
 "metadata": {
  "kernelspec": {
   "display_name": ".venv",
   "language": "python",
   "name": "python3"
  },
  "language_info": {
   "codemirror_mode": {
    "name": "ipython",
    "version": 3
   },
   "file_extension": ".py",
   "mimetype": "text/x-python",
   "name": "python",
   "nbconvert_exporter": "python",
   "pygments_lexer": "ipython3",
   "version": "3.12.2"
  }
 },
 "nbformat": 4,
 "nbformat_minor": 2
}
