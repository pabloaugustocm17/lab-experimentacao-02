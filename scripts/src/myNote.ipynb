{
 "cells": [
  {
   "cell_type": "markdown",
   "metadata": {},
   "source": [
    "# Libs"
   ]
  },
  {
   "cell_type": "code",
   "execution_count": null,
   "metadata": {},
   "outputs": [],
   "source": [
    "import requests as req\n",
    "import pandas as pd\n",
    "import json\n",
    "from datetime import datetime\n",
    "import os"
   ]
  },
  {
   "cell_type": "markdown",
   "metadata": {},
   "source": [
    "# Utils "
   ]
  },
  {
   "cell_type": "markdown",
   "metadata": {},
   "source": [
    "## Consts"
   ]
  },
  {
   "cell_type": "code",
   "execution_count": null,
   "metadata": {},
   "outputs": [],
   "source": [
    "DOMAIN = 'https://api.github.com/graphql'\n",
    "TOKEN = ''\n",
    "HEADERS = {\n",
    "  'Authorization': f'bearer {TOKEN}',\n",
    "  'Content-Type': 'application/json'\n",
    "}\n",
    "TODAY = datetime.now()\n",
    "NUMBER_OF_REPOSITORIES=1000\n",
    "PRIMARY_LANGUANGE = 'java'\n",
    "\n",
    "ROOT_PATH = os.getcwd().split('\\\\lab-experimentacao-02')[0].replace('\\\\', '/')\n",
    "BASE_URL_GITHUB = 'https://github.com/'\n",
    "CK_REPO = 'https://github.com/mauricioaniche/ck'"
   ]
  },
  {
   "cell_type": "markdown",
   "metadata": {},
   "source": [
    "## Functions"
   ]
  },
  {
   "cell_type": "code",
   "execution_count": null,
   "metadata": {},
   "outputs": [],
   "source": [
    "def doPost(data : json)-> json:\n",
    "  response = req.post(DOMAIN, headers=HEADERS, json=data)\n",
    "  if response.status_code == 200:\n",
    "    return response.json()\n",
    "\n",
    "  raise Exception(f'Erro ao fazer requisição: {response.status_code} \\n {response.text}')\n",
    "\n",
    "def analisar_createdAt(repositories: list):\n",
    "  data_frame = pd.DataFrame(repositories)\n",
    "  created_dates = [datetime.strptime(date, '%Y-%m-%dT%H:%M:%SZ') for date in data_frame['createdAt']]\n",
    "  age_years = [round((TODAY - date).days / 365, 2) for date in created_dates]\n",
    "  return age_years\n",
    "\n",
    "def clone_repo(dir_path: str, nameWithOwner: str)-> bool:\n",
    "  repo_url = f'{BASE_URL_GITHUB}/{nameWithOwner}'\n",
    "  os.chdir(dir_path)\n",
    "  return os.system(f'git clone {repo_url}') == 0\n",
    "\n",
    "    \n",
    "def execute_ck(repo_name: str, use_jars: str = 'true',max_files_per_partition: int = 0,  variables_and_fields_metrics: str = 'false')-> bool:\n",
    "  ck_path = f'{ROOT_PATH}/ck/target/ck-0.7.1-SNAPSHOT-jar-with-dependencies.jar'\n",
    "  project_path = f'{ROOT_PATH}/{repo_name}'\n",
    "  destiny_path = f'{os.getcwd().replace('\\\\', '/')}/lab-experimentacao-02/scripts/output/{repo_name}/'\n",
    "  \n",
    "  if not os.path.exists(destiny_path):\n",
    "    os.makedirs(destiny_path)\n",
    "    \n",
    "  command_to_run_ck = f'java -jar {ck_path} {project_path} {use_jars} {max_files_per_partition} {variables_and_fields_metrics} {destiny_path}'\n",
    "  return os.system(command_to_run_ck) == 0\n",
    "  \n",
    "    \n",
    "def delete_repo(repo_name: str = None, *repo_url: str)->bool:\n",
    "  if not repo_name:\n",
    "        if repo_url:\n",
    "            repo_name = repo_url[0].split('/')[-1].replace('.git', '')\n",
    "        else:\n",
    "            raise ValueError(\"repo_name must be provided or calculated from repo_url\")\n",
    "  \n",
    "  return os.system(f'rmdir /S /Q {repo_name}') == 0\n",
    "\n",
    "def join_csv(path_files: list):\n",
    "    if not path_files:\n",
    "        raise Exception(\"Lista de arquivos vazia.\")\n",
    "    \n",
    "    dataframes = []\n",
    "    \n",
    "    for path in path_files:\n",
    "        try:\n",
    "            df = pd.read_csv(path)\n",
    "            dataframes.append(df)\n",
    "        except FileNotFoundError:\n",
    "            print(f\"Arquivo {path} não encontrado.\")\n",
    "            continue\n",
    "    \n",
    "    concatenated_df = pd.concat(dataframes, ignore_index=True)\n",
    "    \n",
    "    try:\n",
    "        concatenated_df.to_csv('output.csv', index=False)\n",
    "        print(\"Arquivo CSV gerado com sucesso: output.csv\")\n",
    "    except Exception as e:\n",
    "        print(f\"Erro ao escrever arquivo CSV: {e}\")\n"
   ]
  },
  {
   "cell_type": "markdown",
   "metadata": {},
   "source": [
    "## Query"
   ]
  },
  {
   "cell_type": "code",
   "execution_count": null,
   "metadata": {},
   "outputs": [],
   "source": [
    "QUERY_TEMPLATE = '''\n",
    "query search($queryString: String!, $perPage: Int!, $cursor: String) {\n",
    "  search(query: $queryString, type: REPOSITORY, first: $perPage, after: $cursor) {\n",
    "    edges {\n",
    "      node {\n",
    "        ... on Repository {\n",
    "          name\n",
    "          nameWithOwner\n",
    "          owner {\n",
    "            login\n",
    "          }\n",
    "          stargazers {\n",
    "            totalCount\n",
    "          }\n",
    "          createdAt\n",
    "          defaultBranchRef {\n",
    "            name\n",
    "            target {\n",
    "              ... on Commit {\n",
    "                history(first: 5) {\n",
    "                  edges {\n",
    "                    node {\n",
    "                      message\n",
    "                      committedDate\n",
    "                      author {\n",
    "                        name\n",
    "                        email\n",
    "                        date\n",
    "                      }\n",
    "                    }\n",
    "                  }\n",
    "                }\n",
    "              }\n",
    "            }\n",
    "          }\n",
    "        }\n",
    "      }\n",
    "    }\n",
    "    pageInfo {\n",
    "      endCursor\n",
    "      hasNextPage\n",
    "    }\n",
    "  }\n",
    "}\n",
    "'''"
   ]
  },
  {
   "cell_type": "markdown",
   "metadata": {},
   "source": [
    "## Requests"
   ]
  },
  {
   "cell_type": "code",
   "execution_count": null,
   "metadata": {},
   "outputs": [],
   "source": [
    "per_page = 100\n",
    "cursor = None\n",
    "query_string = \"language:java\"\n",
    "repositories = []\n",
    "\n",
    "while len(repositories) < NUMBER_OF_REPOSITORIES:\n",
    "    variables = {\n",
    "        \"queryString\": query_string,\n",
    "        \"perPage\": per_page,\n",
    "        \"cursor\": cursor\n",
    "    }\n",
    "    \n",
    "    data = doPost(data={'query': QUERY_TEMPLATE, 'variables': variables})\n",
    "\n",
    "    if 'errors' in data:\n",
    "        print(\"GraphQL query failed:\", data['errors'])\n",
    "        break\n",
    "    \n",
    "    # print(data)\n",
    "    for edge in data['data']['search']['edges']:\n",
    "        repositories.append(edge['node'])\n",
    "\n",
    "    if data['data']['search']['pageInfo']['hasNextPage']:\n",
    "        cursor = data['data']['search']['pageInfo']['endCursor']\n",
    "    else:\n",
    "        break\n",
    "\n",
    "print(\"Total repositories: \", len(repositories))\n",
    "print(\"Cursor: \", cursor)\n",
    "print(\"Per page: \", per_page)\n",
    "\n",
    "# data_brutus = pd.DataFrame(repositories)\n",
    "# data_brutus.to_csv('dados_base.csv', index=False, sep=';')"
   ]
  },
  {
   "cell_type": "markdown",
   "metadata": {},
   "source": [
    "## data processing"
   ]
  },
  {
   "cell_type": "code",
   "execution_count": null,
   "metadata": {},
   "outputs": [],
   "source": [
    "repositories[1]"
   ]
  },
  {
   "cell_type": "code",
   "execution_count": null,
   "metadata": {},
   "outputs": [],
   "source": [
    "dataFrame_tratado = pd.DataFrame()\n",
    "dataFrame_tratado['Repositorio'] = [repo.get('nameWithOwner') for repo in repositories]\n",
    "dataFrame_tratado['Nome'] = [repo.get('name') for repo in repositories]\n",
    "dataFrame_tratado['Estrelas'] = [repo.get('stargazers', {}).get('totalCount', 0) if isinstance(repo, dict) else 0 for repo in repositories]\n",
    "dataFrame_tratado['Anos'] = analisar_createdAt(repositories)\n",
    "\n",
    "dataFrame_tratado.head()"
   ]
  },
  {
   "cell_type": "markdown",
   "metadata": {},
   "source": [
    "## Script to Clone"
   ]
  },
  {
   "cell_type": "code",
   "execution_count": null,
   "metadata": {},
   "outputs": [],
   "source": [
    "destiny_path = ROOT_PATH\n",
    "# repo_teste = 'pabloaugustocm17/grafo'\n",
    "for i in range(1):\n",
    "    clone_repo(dir_path=destiny_path, nameWithOwner=dataFrame_tratado['Repositorio'][i])\n",
    "    execute_ck(repo_name=dataFrame_tratado['Nome'][i])\n",
    "    # join_csv()s\n",
    "    delete_repo(repo_name=dataFrame_tratado['Nome'][i])"
   ]
  }
 ],
 "metadata": {
  "kernelspec": {
   "display_name": ".venv",
   "language": "python",
   "name": "python3"
  },
  "language_info": {
   "codemirror_mode": {
    "name": "ipython",
    "version": 3
   },
   "file_extension": ".py",
   "mimetype": "text/x-python",
   "name": "python",
   "nbconvert_exporter": "python",
   "pygments_lexer": "ipython3",
   "version": "3.12.2"
  }
 },
 "nbformat": 4,
 "nbformat_minor": 2
}
