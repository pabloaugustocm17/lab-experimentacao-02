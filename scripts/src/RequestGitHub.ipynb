{
 "cells": [
  {
   "cell_type": "code",
   "execution_count": null,
   "metadata": {},
   "outputs": [],
   "source": [
    "import requests as req\n",
    "import pandas as pd\n",
    "import json\n",
    "from datetime import datetime"
   ]
  },
  {
   "cell_type": "markdown",
   "metadata": {},
   "source": [
    "# Utils "
   ]
  },
  {
   "cell_type": "markdown",
   "metadata": {},
   "source": [
    "## Consts"
   ]
  },
  {
   "cell_type": "code",
   "execution_count": null,
   "metadata": {},
   "outputs": [],
   "source": [
    "DOMAIN = 'https://api.github.com/graphql'\n",
    "TOKEN = ''\n",
    "HEADERS = {\n",
    "  'Authorization': f'bearer {TOKEN}',\n",
    "  'Content-Type': 'application/json'\n",
    "}\n",
    "TODAY = datetime.now()\n",
    "NUMBER_OF_REPOSITORIES=1000\n",
    "PRIMARY_LANGUANGE = 'java'"
   ]
  },
  {
   "cell_type": "markdown",
   "metadata": {},
   "source": [
    "## Functions"
   ]
  },
  {
   "cell_type": "code",
   "execution_count": null,
   "metadata": {},
   "outputs": [],
   "source": [
    "def doPost(data : json)-> json:\n",
    "  response = req.post(DOMAIN, headers=HEADERS, json=data)\n",
    "  if response.status_code == 200:\n",
    "    return response.json()\n",
    "\n",
    "  raise Exception(f'Erro ao fazer requisição: {response.status_code} \\n {response.text}')\n",
    "\n",
    "def analisar_createdAt(repositories: list):\n",
    "  data_frame = pd.DataFrame(repositories)\n",
    "  created_dates = [datetime.strptime(date, '%Y-%m-%dT%H:%M:%SZ') for date in data_frame['createdAt']]\n",
    "  age_years = [round((TODAY - date).days / 365, 2) for date in created_dates]\n",
    "  return age_years"
   ]
  },
  {
   "cell_type": "markdown",
   "metadata": {},
   "source": [
    "# REQUESTS"
   ]
  },
  {
   "cell_type": "markdown",
   "metadata": {},
   "source": [
    "## QUERY"
   ]
  },
  {
   "cell_type": "code",
   "execution_count": null,
   "metadata": {},
   "outputs": [],
   "source": [
    "QUERY_TEMPLATE = '''\n",
    "query search($queryString: String!, $perPage: Int!, $cursor: String) {\n",
    "  search(query: $queryString, type: REPOSITORY, first: $perPage, after: $cursor) {\n",
    "    edges {\n",
    "      node {\n",
    "        ... on Repository {\n",
    "          name\n",
    "          nameWithOwner\n",
    "          owner {\n",
    "            login\n",
    "          }\n",
    "          stargazers {\n",
    "            totalCount\n",
    "          }\n",
    "          createdAt\n",
    "          defaultBranchRef {\n",
    "            name\n",
    "            target {\n",
    "              ... on Commit {\n",
    "                history(first: 5) {\n",
    "                  edges {\n",
    "                    node {\n",
    "                      message\n",
    "                      committedDate\n",
    "                      author {\n",
    "                        name\n",
    "                        email\n",
    "                        date\n",
    "                      }\n",
    "                    }\n",
    "                  }\n",
    "                }\n",
    "              }\n",
    "            }\n",
    "          }\n",
    "          releases {\n",
    "            totalCount\n",
    "          }\n",
    "        }\n",
    "      }\n",
    "    }\n",
    "    pageInfo {\n",
    "      endCursor\n",
    "      hasNextPage\n",
    "    }\n",
    "  }\n",
    "}\n",
    "'''"
   ]
  },
  {
   "cell_type": "code",
   "execution_count": null,
   "metadata": {},
   "outputs": [],
   "source": [
    "per_page = 50\n",
    "cursor = None\n",
    "query_string = \"language:java\"\n",
    "repositories = []\n",
    "\n",
    "while len(repositories) < NUMBER_OF_REPOSITORIES:\n",
    "    variables = {\n",
    "        \"queryString\": query_string,\n",
    "        \"perPage\": per_page,\n",
    "        \"cursor\": cursor\n",
    "    }\n",
    "    \n",
    "    data = doPost(data={'query': QUERY_TEMPLATE, 'variables': variables})\n",
    "\n",
    "    if 'errors' in data:\n",
    "        print(\"GraphQL query failed:\", data['errors'])\n",
    "        break\n",
    "    \n",
    "    # print(data)\n",
    "    for edge in data['data']['search']['edges']:\n",
    "        repositories.append(edge['node'])\n",
    "\n",
    "    if data['data']['search']['pageInfo']['hasNextPage']:\n",
    "        cursor = data['data']['search']['pageInfo']['endCursor']\n",
    "    else:\n",
    "        break\n",
    "\n",
    "print(\"Total repositories: \", len(repositories))\n",
    "print(\"Cursor: \", cursor)\n",
    "print(\"Per page: \", per_page)\n",
    "\n",
    "data_brutus = pd.DataFrame(repositories)\n",
    "data_brutus.to_csv('../dataset/dados_base.csv', index=False, sep=';')\n"
   ]
  },
  {
   "cell_type": "markdown",
   "metadata": {},
   "source": [
    "## data processing"
   ]
  },
  {
   "cell_type": "code",
   "execution_count": null,
   "metadata": {},
   "outputs": [],
   "source": [
    "dataFrame_tratado = pd.DataFrame()\n",
    "dataFrame_tratado['Repositorio'] = [repo.get('nameWithOwner') for repo in repositories]\n",
    "dataFrame_tratado['Nome'] = [repo.get('name') for repo in repositories]\n",
    "dataFrame_tratado['Estrelas'] = [repo.get('stargazers', {}).get('totalCount', 0) if isinstance(repo, dict) else 0 for repo in repositories]\n",
    "dataFrame_tratado['Anos'] = analisar_createdAt(repositories)\n",
    "dataFrame_tratado['nº Releases'] = [repo.get('releases').get('totalCount',0) if isinstance(repo, dict) else 0 for repo in repositories]\n",
    "\n",
    "dataFrame_tratado.head()\n",
    "dataFrame_tratado.to_csv('../dataset/dados_tratados.csv', index=False, sep=';')"
   ]
  }
 ],
 "metadata": {
  "kernelspec": {
   "display_name": ".venv",
   "language": "python",
   "name": "python3"
  },
  "language_info": {
   "codemirror_mode": {
    "name": "ipython",
    "version": 3
   },
   "file_extension": ".py",
   "mimetype": "text/x-python",
   "name": "python",
   "nbconvert_exporter": "python",
   "pygments_lexer": "ipython3",
   "version": "3.12.2"
  }
 },
 "nbformat": 4,
 "nbformat_minor": 2
}
