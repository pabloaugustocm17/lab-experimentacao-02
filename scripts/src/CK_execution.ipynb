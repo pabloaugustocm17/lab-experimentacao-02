{
 "cells": [
  {
   "cell_type": "markdown",
   "metadata": {},
   "source": [
    "# Libs"
   ]
  },
  {
   "cell_type": "code",
   "execution_count": null,
   "metadata": {},
   "outputs": [],
   "source": [
    "from datetime import datetime\n",
    "import os\n",
    "import pandas as pd\n",
    "import zipfile"
   ]
  },
  {
   "cell_type": "markdown",
   "metadata": {},
   "source": [
    "# Utils "
   ]
  },
  {
   "cell_type": "markdown",
   "metadata": {},
   "source": [
    "## Consts"
   ]
  },
  {
   "cell_type": "code",
   "execution_count": null,
   "metadata": {},
   "outputs": [],
   "source": [
    "TODAY = datetime.now()\n",
    "NUMBER_OF_REPOSITORIES=1000\n",
    "PRIMARY_LANGUANGE = 'java'\n",
    "\n",
    "ROOT_PATH = os.getcwd().split('\\\\lab-experimentacao-02')[0].replace('\\\\', '/')\n",
    "BASE_URL_GITHUB = 'https://github.com/'\n",
    "CK_REPO = 'https://github.com/mauricioaniche/ck'"
   ]
  },
  {
   "cell_type": "markdown",
   "metadata": {},
   "source": [
    "## Functions"
   ]
  },
  {
   "cell_type": "code",
   "execution_count": null,
   "metadata": {},
   "outputs": [],
   "source": [
    "def clone_repo(dir_path: str, nameWithOwner: str)-> bool:\n",
    "  repo_url = f'{BASE_URL_GITHUB}/{nameWithOwner}'\n",
    "  os.chdir(dir_path)\n",
    "  return os.system(f'git clone {repo_url}') == 0\n",
    "\n",
    "    \n",
    "def execute_ck(repo_name: str, path_destiny_name: str= None ,use_jars: str = 'true',max_files_per_partition: int = 0,  variables_and_fields_metrics: str = 'false')-> bool:\n",
    "  if path_destiny_name == None:\n",
    "      path_destiny_name = repo_name\n",
    "      \n",
    "  ck_path = f'{ROOT_PATH}/ck/target/ck-0.7.1-SNAPSHOT-jar-with-dependencies.jar'\n",
    "  project_path = f'{ROOT_PATH}/{repo_name}'\n",
    "  destiny_path = f'{os.getcwd().replace('\\\\', '/')}/lab-experimentacao-02/scripts/output/{path_destiny_name}/'\n",
    "  \n",
    "  if not os.path.exists(destiny_path):\n",
    "    os.makedirs(destiny_path)\n",
    "    \n",
    "  command_to_run_ck = f'java -jar {ck_path} {project_path} {use_jars} {max_files_per_partition} {variables_and_fields_metrics} {destiny_path}'\n",
    "#   print(command_to_run_ck)\n",
    "  return os.system(command_to_run_ck) == 0\n",
    "  \n",
    "    \n",
    "def delete_repo(repo_name: str = None, *repo_url: str)->bool:\n",
    "  if not repo_name:\n",
    "        if repo_url:\n",
    "            repo_name = repo_url[0].split('/')[-1].replace('.git', '')\n",
    "        else:\n",
    "            raise ValueError(\"repo_name must be provided or calculated from repo_url\")\n",
    "  \n",
    "  return os.system(f'rmdir /S /Q {repo_name}') == 0\n",
    "\n",
    "def join_csv(path_files: list):\n",
    "  if not path_files:\n",
    "      raise Exception(\"Lista de arquivos vazia.\")\n",
    "    \n",
    "  dataframes = []\n",
    "  \n",
    "  for path in path_files:\n",
    "      try:\n",
    "          df = pd.read_csv(path)\n",
    "          dataframes.append(df)\n",
    "      except FileNotFoundError:\n",
    "          print(f\"Arquivo {path} não encontrado.\")\n",
    "          continue\n",
    "    \n",
    "  concatenated_df = pd.concat(dataframes, ignore_index=True)\n",
    "    \n",
    "  # try:\n",
    "  #     concatenated_df.to_csv('output.csv', index=False)\n",
    "  #     print(\"Arquivo CSV gerado com sucesso: output.csv\")\n",
    "  # except Exception as e:\n",
    "  #     print(f\"Erro ao escrever arquivo CSV: {e}\")\n",
    "\n",
    "def calculate_metrics(repo_name: str) -> tuple:\n",
    "    path_ck_result_class = f'{ROOT_PATH}/lab-experimentacao-02/scripts/output/{repo_name}/class.csv'\n",
    "    data = pd.read_csv(path_ck_result_class)\n",
    "    mean_cbo = data['cbo'].mean()\n",
    "    standard_deviation_cbo = data['cbo'].std(ddof=0) # desvio padrão com grau de liberdade 0\n",
    "    dit_high = data['dit'].max()\n",
    "    standard_deviation_dit = data['dit'].std(ddof=0) # desvio padrão com grau de liberdade 0\n",
    "    lcom_high = data['lcom'].mean()\n",
    "    standard_deviation_lcom = data['lcom'].std(ddof=0) # desvio padrão com grau de liberdade 0\n",
    "    return (mean_cbo, standard_deviation_cbo, standard_deviation_cbo, dit_high, standard_deviation_dit, lcom_high, standard_deviation_lcom)\n",
    "\n",
    "def delete_csv(path_csv: str = None)-> None:\n",
    "    os.system(f'del {path_csv}')\n",
    "  \n",
    "def create_file(list_of_values: list, file_path: str)-> None:\n",
    "    try:\n",
    "        with open(file_path, 'w') as arquivo:\n",
    "            \n",
    "            for valor in list_of_values:\n",
    "                arquivo.write(valor + '\\n')\n",
    "        print(f\"Arquivo '{file_path}' criado com sucesso.\")\n",
    "    except Exception as e:\n",
    "        print(f\"Ocorreu um erro ao criar o arquivo: {e}\")\n"
   ]
  },
  {
   "cell_type": "markdown",
   "metadata": {},
   "source": [
    "# Script to Clone"
   ]
  },
  {
   "cell_type": "code",
   "execution_count": null,
   "metadata": {},
   "outputs": [],
   "source": [
    "data = pd.read_csv('../dataset/dados_tratados.csv', sep=';')"
   ]
  },
  {
   "cell_type": "code",
   "execution_count": null,
   "metadata": {},
   "outputs": [],
   "source": [
    "destiny_path = ROOT_PATH\n",
    "repo_teste = 'pabloaugustocm17/rinha-backend-2024-java'\n",
    "means_cbo = []\n",
    "standards_cbo = []\n",
    "means_lcom = []\n",
    "standards_lcom = []\n",
    "dit_highs = []\n",
    "locs = []\n",
    "\n",
    "# java.lang.IllegalStateException: invalid\n",
    "repo_with_erros = ['nameWithOwner;error']\n",
    "\n",
    "for i in range(data.shape[0]):\n",
    "    repo_name = data['Nome'][i]\n",
    "    owner = data['Repositorio'][i].split('/')[0]\n",
    "    path_destiny_name = f'{owner}_{repo_name}'\n",
    "    \n",
    "    try:\n",
    "        clone_repo(dir_path=destiny_path, nameWithOwner=data['Repositorio'][i])\n",
    "        execute_ck(repo_name=repo_name, path_destiny_name=path_destiny_name)\n",
    "        path_ck_result_class = f'{ROOT_PATH}/lab-experimentacao-02/scripts/output/{path_destiny_name}/class.csv'\n",
    "        data_ck = pd.read_csv(path_ck_result_class)\n",
    "        if data_ck.shape[0] != 0:\n",
    "            mean_cbo = data_ck['cbo'].mean()\n",
    "            standard_deviation_cbo = data_ck['cbo'].std(ddof=0) # desvio padrão com grau de liberdade 0\n",
    "            mean_lcom = data_ck['lcom'].mean()\n",
    "            standard_deviation_lcom = data_ck['lcom'].std(ddof=0) # desvio padrão com grau de liberdade 0\n",
    "            dit_high = data_ck['dit'].max()\n",
    "            sum_locs = data_ck['loc'].sum()\n",
    "        else:\n",
    "            mean_cbo = None\n",
    "            standard_deviation_cbo = None\n",
    "            mean_lcom = None\n",
    "            standard_deviation_lcom = None\n",
    "            dit_high = None\n",
    "            sum_locs = None\n",
    "            \n",
    "    except Exception as ex:\n",
    "        print(\"Ocorreu uma exceção:\", ex)\n",
    "        print('Deu erro para: ', path_destiny_name)\n",
    "        repo_with_erros.append(f'{path_destiny_name};{ex}')\n",
    "        mean_cbo = None\n",
    "        standard_deviation_cbo = None\n",
    "        mean_lcom = None\n",
    "        standard_deviation_lcom = None\n",
    "        dit_high = None\n",
    "        sum_locs = None\n",
    "        pass\n",
    "    finally:\n",
    "        means_cbo.append(mean_cbo)\n",
    "        standards_cbo.append(standard_deviation_cbo)\n",
    "        means_lcom.append(mean_lcom)\n",
    "        standards_lcom.append(standard_deviation_lcom)\n",
    "        dit_highs.append(dit_high)\n",
    "        locs.append(sum_locs)\n",
    "        delete_repo(repo_name=data['Nome'][i])\n",
    "        continue\n",
    "    \n",
    "\n",
    "data['média CBO'] = means_cbo\n",
    "data['desvio padão CBO'] = standards_cbo\n",
    "data['média LCOM'] = means_lcom\n",
    "data['desvio padão LCOM'] = standards_lcom\n",
    "data['DIT máximo'] = dit_highs\n",
    "data['LOC Total'] = locs\n",
    "\n",
    "data.tail()"
   ]
  },
  {
   "cell_type": "code",
   "execution_count": null,
   "metadata": {},
   "outputs": [],
   "source": [
    "print('TOTAL DE ERROS: ', len(repo_with_erros))\n",
    "data.to_csv(f'{ROOT_PATH}/lab-experimentacao-02/scripts/dataset/dados_tratados.csv', index=False, sep=';')\n",
    "create_file(list_of_values=repo_with_erros, file_path= f'{ROOT_PATH}/lab-experimentacao-02/scripts/dataset/repo_with_erros.csv')"
   ]
  }
 ],
 "metadata": {
  "kernelspec": {
   "display_name": ".venv",
   "language": "python",
   "name": "python3"
  },
  "language_info": {
   "codemirror_mode": {
    "name": "ipython",
    "version": 3
   },
   "file_extension": ".py",
   "mimetype": "text/x-python",
   "name": "python",
   "nbconvert_exporter": "python",
   "pygments_lexer": "ipython3",
   "version": "3.12.2"
  }
 },
 "nbformat": 4,
 "nbformat_minor": 2
}
