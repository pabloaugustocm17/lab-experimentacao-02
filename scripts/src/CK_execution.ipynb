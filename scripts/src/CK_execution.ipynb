{
 "cells": [
  {
   "cell_type": "markdown",
   "metadata": {},
   "source": [
    "# Libs"
   ]
  },
  {
   "cell_type": "code",
   "execution_count": 4,
   "metadata": {},
   "outputs": [],
   "source": [
    "from datetime import datetime\n",
    "import os\n",
    "import pandas as pd"
   ]
  },
  {
   "cell_type": "markdown",
   "metadata": {},
   "source": [
    "# Utils "
   ]
  },
  {
   "cell_type": "markdown",
   "metadata": {},
   "source": [
    "## Consts"
   ]
  },
  {
   "cell_type": "code",
   "execution_count": 2,
   "metadata": {},
   "outputs": [],
   "source": [
    "TODAY = datetime.now()\n",
    "NUMBER_OF_REPOSITORIES=1000\n",
    "PRIMARY_LANGUANGE = 'java'\n",
    "\n",
    "ROOT_PATH = os.getcwd().split('\\\\lab-experimentacao-02')[0].replace('\\\\', '/')\n",
    "BASE_URL_GITHUB = 'https://github.com/'\n",
    "CK_REPO = 'https://github.com/mauricioaniche/ck'"
   ]
  },
  {
   "cell_type": "markdown",
   "metadata": {},
   "source": [
    "## Functions"
   ]
  },
  {
   "cell_type": "code",
   "execution_count": 3,
   "metadata": {},
   "outputs": [],
   "source": [
    "def clone_repo(dir_path: str, nameWithOwner: str)-> bool:\n",
    "  repo_url = f'{BASE_URL_GITHUB}/{nameWithOwner}'\n",
    "  os.chdir(dir_path)\n",
    "  return os.system(f'git clone {repo_url}') == 0\n",
    "\n",
    "    \n",
    "def execute_ck(repo_name: str, use_jars: str = 'true',max_files_per_partition: int = 0,  variables_and_fields_metrics: str = 'false')-> bool:\n",
    "  ck_path = f'{ROOT_PATH}/ck/target/ck-0.7.1-SNAPSHOT-jar-with-dependencies.jar'\n",
    "  project_path = f'{ROOT_PATH}/{repo_name}'\n",
    "  destiny_path = f'{os.getcwd().replace('\\\\', '/')}/lab-experimentacao-02/scripts/output/{repo_name}/'\n",
    "  \n",
    "  if not os.path.exists(destiny_path):\n",
    "    os.makedirs(destiny_path)\n",
    "    \n",
    "  command_to_run_ck = f'java -jar {ck_path} {project_path} {use_jars} {max_files_per_partition} {variables_and_fields_metrics} {destiny_path}'\n",
    "  return os.system(command_to_run_ck) == 0\n",
    "  \n",
    "    \n",
    "def delete_repo(repo_name: str = None, *repo_url: str)->bool:\n",
    "  if not repo_name:\n",
    "        if repo_url:\n",
    "            repo_name = repo_url[0].split('/')[-1].replace('.git', '')\n",
    "        else:\n",
    "            raise ValueError(\"repo_name must be provided or calculated from repo_url\")\n",
    "  \n",
    "  return os.system(f'rmdir /S /Q {repo_name}') == 0\n",
    "\n",
    "def join_csv(path_files: list):\n",
    "  if not path_files:\n",
    "      raise Exception(\"Lista de arquivos vazia.\")\n",
    "    \n",
    "  dataframes = []\n",
    "  \n",
    "  for path in path_files:\n",
    "      try:\n",
    "          df = pd.read_csv(path)\n",
    "          dataframes.append(df)\n",
    "      except FileNotFoundError:\n",
    "          print(f\"Arquivo {path} não encontrado.\")\n",
    "          continue\n",
    "    \n",
    "  concatenated_df = pd.concat(dataframes, ignore_index=True)\n",
    "    \n",
    "  try:\n",
    "      concatenated_df.to_csv('output.csv', index=False)\n",
    "      print(\"Arquivo CSV gerado com sucesso: output.csv\")\n",
    "  except Exception as e:\n",
    "      print(f\"Erro ao escrever arquivo CSV: {e}\")\n"
   ]
  },
  {
   "cell_type": "markdown",
   "metadata": {},
   "source": [
    "# Script to Clone"
   ]
  },
  {
   "cell_type": "code",
   "execution_count": null,
   "metadata": {},
   "outputs": [],
   "source": [
    "data = pd.read_csv('../dataset/dados_tratados.csv', sep=';')"
   ]
  },
  {
   "cell_type": "code",
   "execution_count": null,
   "metadata": {},
   "outputs": [],
   "source": [
    "destiny_path = ROOT_PATH\n",
    "repo_teste = 'pabloaugustocm17/rinha-backend-2024-java'\n",
    "\n",
    "for i in range(2):\n",
    "    clone_repo(dir_path=destiny_path, nameWithOwner=data['Repositorio'][i])\n",
    "    execute_ck(repo_name=data['Nome'][i])\n",
    "    # join_csv()\n",
    "    delete_repo(repo_name=data['Nome'][i])"
   ]
  }
 ],
 "metadata": {
  "kernelspec": {
   "display_name": ".venv",
   "language": "python",
   "name": "python3"
  },
  "language_info": {
   "codemirror_mode": {
    "name": "ipython",
    "version": 3
   },
   "file_extension": ".py",
   "mimetype": "text/x-python",
   "name": "python",
   "nbconvert_exporter": "python",
   "pygments_lexer": "ipython3",
   "version": "3.12.2"
  }
 },
 "nbformat": 4,
 "nbformat_minor": 2
}
